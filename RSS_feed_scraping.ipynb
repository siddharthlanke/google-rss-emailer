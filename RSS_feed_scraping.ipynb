{
 "cells": [
  {
   "cell_type": "code",
   "execution_count": null,
   "metadata": {},
   "outputs": [],
   "source": [
    "import feedparser\n",
    "from googleapiclient.discovery import build\n",
    "from google.oauth2.credentials import Credentials\n",
    "from email.mime.text import MIMEText\n",
    "import base64\n",
    "import html"
   ]
  },
  {
   "cell_type": "code",
   "execution_count": null,
   "metadata": {},
   "outputs": [],
   "source": [
    "# Function for scraping articles from an RSS feed\n",
    "def scrape_rss_feed(feed_url):\n",
    "    feed = feedparser.parse(feed_url)\n",
    "    articles = []\n",
    "    for entry in feed.entries:\n",
    "        title = html.unescape(entry.title)\n",
    "        summary = html.unescape(entry.summary)\n",
    "        articles.append({\n",
    "            \"title\": title,\n",
    "            \"link\": entry.link,\n",
    "            \"summary\": summary,\n",
    "            \"published\": entry.published\n",
    "        })\n",
    "    return articles\n",
    "\n",
    "# Function for creating a message for the Gmail API\n",
    "def create_message(sender, to, subject, message_text):\n",
    "    message = MIMEText(message_text)\n",
    "    message['to'] = to\n",
    "    message['from'] = sender\n",
    "    message['subject'] = subject\n",
    "    raw = base64.urlsafe_b64encode(message.as_bytes())\n",
    "    raw = raw.decode()\n",
    "    return {'raw': raw}\n",
    "\n",
    "# Function for sending an email via the Gmail API\n",
    "def send_email(subject, message_text, to='your_email@example.com', sender='me'):\n",
    "    creds = Credentials.from_authorized_user_file('token.json')\n",
    "    service = build('gmail', 'v1', credentials=creds)\n",
    "    message = create_message(sender, to, subject, message_text)\n",
    "    sent_message = service.users().messages().send(userId=\"me\", body=message).execute()\n",
    "    print(f\"Message Id: {sent_message['id']} sent successfully.\")\n",
    "\n",
    "# The main function for scraping and sending the articles\n",
    "def main_job():\n",
    "    print(\"Starting the RSS feed scraping job...\")\n",
    "    articles = scrape_rss_feed('http://example.com/rss') # replaced with an actual RSS url\n",
    "    articles_content = \"\\n\\n\".join(\n",
    "        [f\"Title: {article['title']}\\nLink: {article['link']}\\nSummary: {article['summary']}\\nPublished: {article['published']}\"\n",
    "         for article in articles]\n",
    "    )\n",
    "    send_email(\"Daily RSS Feed Articles\", articles_content)\n",
    "\n",
    "main_job()"
   ]
  }
 ],
 "metadata": {
  "kernelspec": {
   "display_name": "PythonAIMLenv",
   "language": "python",
   "name": "python3"
  },
  "language_info": {
   "codemirror_mode": {
    "name": "ipython",
    "version": 3
   },
   "file_extension": ".py",
   "mimetype": "text/x-python",
   "name": "python",
   "nbconvert_exporter": "python",
   "pygments_lexer": "ipython3",
   "version": "3.12.4"
  }
 },
 "nbformat": 4,
 "nbformat_minor": 2
}
